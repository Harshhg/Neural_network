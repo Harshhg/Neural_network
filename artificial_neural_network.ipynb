{
  "nbformat": 4,
  "nbformat_minor": 0,
  "metadata": {
    "colab": {
      "name": "artificial_neural_network.ipynb",
      "version": "0.3.2",
      "provenance": [],
      "collapsed_sections": []
    },
    "kernelspec": {
      "name": "python3",
      "display_name": "Python 3"
    }
  },
  "cells": [
    {
      "cell_type": "code",
      "metadata": {
        "id": "uoBk54hVtqOn",
        "colab_type": "code",
        "colab": {}
      },
      "source": [
        "# Loading data via Pandas\n",
        "import pandas as pd\n",
        "import numpy as np\n",
        "import matplotlib.pyplot as plt\n",
        "import seaborn as sb"
      ],
      "execution_count": 0,
      "outputs": []
    },
    {
      "cell_type": "code",
      "metadata": {
        "id": "hW7_ccO5wgPX",
        "colab_type": "code",
        "colab": {
          "base_uri": "https://localhost:8080/",
          "height": 194
        },
        "outputId": "aaacddc4-a966-4b01-889b-4fd35a177784"
      },
      "source": [
        "# Loading data from url\n",
        "df=pd.read_csv('bank.csv')\n",
        "df.head(5)"
      ],
      "execution_count": 2,
      "outputs": [
        {
          "output_type": "execute_result",
          "data": {
            "text/html": [
              "<div>\n",
              "<style scoped>\n",
              "    .dataframe tbody tr th:only-of-type {\n",
              "        vertical-align: middle;\n",
              "    }\n",
              "\n",
              "    .dataframe tbody tr th {\n",
              "        vertical-align: top;\n",
              "    }\n",
              "\n",
              "    .dataframe thead th {\n",
              "        text-align: right;\n",
              "    }\n",
              "</style>\n",
              "<table border=\"1\" class=\"dataframe\">\n",
              "  <thead>\n",
              "    <tr style=\"text-align: right;\">\n",
              "      <th></th>\n",
              "      <th>RowNumber</th>\n",
              "      <th>CustomerId</th>\n",
              "      <th>Surname</th>\n",
              "      <th>CreditScore</th>\n",
              "      <th>Geography</th>\n",
              "      <th>Gender</th>\n",
              "      <th>Age</th>\n",
              "      <th>Tenure</th>\n",
              "      <th>Balance</th>\n",
              "      <th>NumOfProducts</th>\n",
              "      <th>HasCrCard</th>\n",
              "      <th>IsActiveMember</th>\n",
              "      <th>EstimatedSalary</th>\n",
              "      <th>Exited</th>\n",
              "    </tr>\n",
              "  </thead>\n",
              "  <tbody>\n",
              "    <tr>\n",
              "      <th>0</th>\n",
              "      <td>1</td>\n",
              "      <td>15634602</td>\n",
              "      <td>Hargrave</td>\n",
              "      <td>619</td>\n",
              "      <td>France</td>\n",
              "      <td>Female</td>\n",
              "      <td>42</td>\n",
              "      <td>2</td>\n",
              "      <td>0.00</td>\n",
              "      <td>1</td>\n",
              "      <td>1</td>\n",
              "      <td>1</td>\n",
              "      <td>101348.88</td>\n",
              "      <td>1</td>\n",
              "    </tr>\n",
              "    <tr>\n",
              "      <th>1</th>\n",
              "      <td>2</td>\n",
              "      <td>15647311</td>\n",
              "      <td>Hill</td>\n",
              "      <td>608</td>\n",
              "      <td>Spain</td>\n",
              "      <td>Female</td>\n",
              "      <td>41</td>\n",
              "      <td>1</td>\n",
              "      <td>83807.86</td>\n",
              "      <td>1</td>\n",
              "      <td>0</td>\n",
              "      <td>1</td>\n",
              "      <td>112542.58</td>\n",
              "      <td>0</td>\n",
              "    </tr>\n",
              "    <tr>\n",
              "      <th>2</th>\n",
              "      <td>3</td>\n",
              "      <td>15619304</td>\n",
              "      <td>Onio</td>\n",
              "      <td>502</td>\n",
              "      <td>France</td>\n",
              "      <td>Female</td>\n",
              "      <td>42</td>\n",
              "      <td>8</td>\n",
              "      <td>159660.80</td>\n",
              "      <td>3</td>\n",
              "      <td>1</td>\n",
              "      <td>0</td>\n",
              "      <td>113931.57</td>\n",
              "      <td>1</td>\n",
              "    </tr>\n",
              "    <tr>\n",
              "      <th>3</th>\n",
              "      <td>4</td>\n",
              "      <td>15701354</td>\n",
              "      <td>Boni</td>\n",
              "      <td>699</td>\n",
              "      <td>France</td>\n",
              "      <td>Female</td>\n",
              "      <td>39</td>\n",
              "      <td>1</td>\n",
              "      <td>0.00</td>\n",
              "      <td>2</td>\n",
              "      <td>0</td>\n",
              "      <td>0</td>\n",
              "      <td>93826.63</td>\n",
              "      <td>0</td>\n",
              "    </tr>\n",
              "    <tr>\n",
              "      <th>4</th>\n",
              "      <td>5</td>\n",
              "      <td>15737888</td>\n",
              "      <td>Mitchell</td>\n",
              "      <td>850</td>\n",
              "      <td>Spain</td>\n",
              "      <td>Female</td>\n",
              "      <td>43</td>\n",
              "      <td>2</td>\n",
              "      <td>125510.82</td>\n",
              "      <td>1</td>\n",
              "      <td>1</td>\n",
              "      <td>1</td>\n",
              "      <td>79084.10</td>\n",
              "      <td>0</td>\n",
              "    </tr>\n",
              "  </tbody>\n",
              "</table>\n",
              "</div>"
            ],
            "text/plain": [
              "   RowNumber  CustomerId   Surname  ...  IsActiveMember EstimatedSalary Exited\n",
              "0          1    15634602  Hargrave  ...               1       101348.88      1\n",
              "1          2    15647311      Hill  ...               1       112542.58      0\n",
              "2          3    15619304      Onio  ...               0       113931.57      1\n",
              "3          4    15701354      Boni  ...               0        93826.63      0\n",
              "4          5    15737888  Mitchell  ...               1        79084.10      0\n",
              "\n",
              "[5 rows x 14 columns]"
            ]
          },
          "metadata": {
            "tags": []
          },
          "execution_count": 2
        }
      ]
    },
    {
      "cell_type": "code",
      "metadata": {
        "id": "RWqgd4r70Ksw",
        "colab_type": "code",
        "outputId": "68ad8b93-24ec-4452-8321-19687ab33b24",
        "colab": {
          "base_uri": "https://localhost:8080/",
          "height": 300
        }
      },
      "source": [
        "# Countplot by seaborn\n",
        "sb.countplot(df['Gender'])"
      ],
      "execution_count": 3,
      "outputs": [
        {
          "output_type": "execute_result",
          "data": {
            "text/plain": [
              "<matplotlib.axes._subplots.AxesSubplot at 0x7eff64320b00>"
            ]
          },
          "metadata": {
            "tags": []
          },
          "execution_count": 3
        },
        {
          "output_type": "display_data",
          "data": {
            "image/png": "[encoded data removed]",
            "text/plain": [
              "<Figure size 432x288 with 1 Axes>"
            ]
          },
          "metadata": {
            "tags": []
          }
        }
      ]
    },
    {
      "cell_type": "code",
      "metadata": {
        "id": "a3fJWE-H0SUm",
        "colab_type": "code",
        "outputId": "c58a1773-0ba4-4d30-9713-7bc24550e1f2",
        "colab": {
          "base_uri": "https://localhost:8080/",
          "height": 300
        }
      },
      "source": [
        "# Comparing countries\n",
        "sb.countplot(df['Geography'])"
      ],
      "execution_count": 4,
      "outputs": [
        {
          "output_type": "execute_result",
          "data": {
            "text/plain": [
              "<matplotlib.axes._subplots.AxesSubplot at 0x7eff64254828>"
            ]
          },
          "metadata": {
            "tags": []
          },
          "execution_count": 4
        },
        {
          "output_type": "display_data",
          "data": {
            "image/png": "[encoded data removed]",
            "text/plain": [
              "<Figure size 432x288 with 1 Axes>"
            ]
          },
          "metadata": {
            "tags": []
          }
        }
      ]
    },
    {
      "cell_type": "code",
      "metadata": {
        "id": "9Fw6nq0O0mbI",
        "colab_type": "code",
        "colab": {}
      },
      "source": [
        "df.hist(figsize=(10,15))"
      ],
      "execution_count": 0,
      "outputs": []
    },
    {
      "cell_type": "code",
      "metadata": {
        "id": "rjpMPraS1Ca-",
        "colab_type": "code",
        "colab": {}
      },
      "source": [
        "# feature and lable of data\n",
        "features=df.iloc[:,3:13].values\n",
        "# Label - bank exit status.\n",
        "label=df.iloc[:,13].values"
      ],
      "execution_count": 0,
      "outputs": []
    },
    {
      "cell_type": "code",
      "metadata": {
        "id": "3iEWEsMh1o1s",
        "colab_type": "code",
        "outputId": "4cc86397-62e0-4e9c-b9b8-28c788ad425c",
        "colab": {
          "base_uri": "https://localhost:8080/",
          "height": 52
        }
      },
      "source": [
        "print(features.shape)\n",
        "print(label.shape)"
      ],
      "execution_count": 7,
      "outputs": [
        {
          "output_type": "stream",
          "text": [
            "(10000, 10)\n",
            "(10000,)\n"
          ],
          "name": "stdout"
        }
      ]
    },
    {
      "cell_type": "code",
      "metadata": {
        "id": "SQaH7-jm2TS6",
        "colab_type": "code",
        "colab": {}
      },
      "source": [
        "# To convert string data into numeric we can apply label encoding.\n",
        "from sklearn.preprocessing import LabelEncoder\n",
        "countenc = LabelEncoder()  # calling labelencoder"
      ],
      "execution_count": 0,
      "outputs": []
    },
    {
      "cell_type": "code",
      "metadata": {
        "id": "LYJnN7aM2qii",
        "colab_type": "code",
        "colab": {
          "base_uri": "https://localhost:8080/",
          "height": 35
        },
        "outputId": "8ff45d87-71eb-48a8-ed41-d3ec13a5c8fb"
      },
      "source": [
        "features[0:,1] = countenc.fit_transform(features[0:,1])   # applying on gegraphy column\n",
        "features.shape"
      ],
      "execution_count": 9,
      "outputs": [
        {
          "output_type": "execute_result",
          "data": {
            "text/plain": [
              "(10000, 10)"
            ]
          },
          "metadata": {
            "tags": []
          },
          "execution_count": 9
        }
      ]
    },
    {
      "cell_type": "code",
      "metadata": {
        "id": "NjoXKh3A3d0S",
        "colab_type": "code",
        "colab": {
          "base_uri": "https://localhost:8080/",
          "height": 35
        },
        "outputId": "72a50b1a-0e2b-471a-8196-1714c9b726f7"
      },
      "source": [
        "# Applying label encoding for Gender\n",
        "features[0:,2]=countenc.fit_transform(features[0:,2])\n",
        "features.shape"
      ],
      "execution_count": 10,
      "outputs": [
        {
          "output_type": "execute_result",
          "data": {
            "text/plain": [
              "(10000, 10)"
            ]
          },
          "metadata": {
            "tags": []
          },
          "execution_count": 10
        }
      ]
    },
    {
      "cell_type": "code",
      "metadata": {
        "id": "ik4ghJ0t3xRO",
        "colab_type": "code",
        "colab": {}
      },
      "source": [
        "# creating dummy variables using onehot encoder\n",
        "from sklearn.preprocessing import OneHotEncoder\n",
        "# calling OneHotEncoding function\n",
        "counthot = OneHotEncoder(categorical_features = [1])"
      ],
      "execution_count": 0,
      "outputs": []
    },
    {
      "cell_type": "code",
      "metadata": {
        "id": "-JGTgkeJ4-Oj",
        "colab_type": "code",
        "colab": {}
      },
      "source": [
        "# Fit and transform\n",
        "features=counthot.fit_transform(features).toarray()\n",
        "\n",
        "# Now removing one column from geography, because geography have 3 columns and gender have 2 columns.. so it is recommended to make them equal... so avoid the one column\n",
        "# Dummy variables number should be equal it is recommended.\n",
        "features=features[:,1:]\n",
        "features.shape"
      ],
      "execution_count": 0,
      "outputs": []
    },
    {
      "cell_type": "code",
      "metadata": {
        "id": "srpJtkRG5xDb",
        "colab_type": "code",
        "colab": {}
      },
      "source": [
        "# Splitting the data into training and testing data\n",
        "from sklearn.model_selection import train_test_split\n",
        "train_data,test_data,train_label, test_label  = train_test_split(features,label,test_size=0.2)"
      ],
      "execution_count": 0,
      "outputs": []
    },
    {
      "cell_type": "code",
      "metadata": {
        "id": "y69KHRQx6AXF",
        "colab_type": "code",
        "colab": {}
      },
      "source": [
        "# Feature scaling\n",
        "from sklearn.preprocessing import StandardScaler\n",
        "sc=StandardScaler()"
      ],
      "execution_count": 0,
      "outputs": []
    },
    {
      "cell_type": "code",
      "metadata": {
        "id": "1dX6stap6IkR",
        "colab_type": "code",
        "colab": {}
      },
      "source": [
        "# Training data feature scaling\n",
        "train_data=sc.fit_transform(train_data)"
      ],
      "execution_count": 0,
      "outputs": []
    },
    {
      "cell_type": "code",
      "metadata": {
        "id": "Kg5acMWW9J5q",
        "colab_type": "code",
        "colab": {
          "base_uri": "https://localhost:8080/",
          "height": 52
        },
        "outputId": "da170a4f-1682-4119-dd98-bcd67bdc36a5"
      },
      "source": [
        "# Testing data feature scaling (transform)\n",
        "test_data=sc.transform(test_data)\n",
        "print(test_data.shape)\n",
        "print(train_data.shape)\n",
        "# 11 is the number of attributes... we have to keep in mind as we will make 11 neurons in neural network"
      ],
      "execution_count": 16,
      "outputs": [
        {
          "output_type": "stream",
          "text": [
            "(2000, 11)\n",
            "(8000, 11)\n"
          ],
          "name": "stdout"
        }
      ]
    },
    {
      "cell_type": "markdown",
      "metadata": {
        "id": "WUmZbZgnCefz",
        "colab_type": "text"
      },
      "source": [
        "# Now we can create   ARITIFICIAL NEURAL NETWORK (ANN)"
      ]
    },
    {
      "cell_type": "code",
      "metadata": {
        "id": "NmpjbYJTCra5",
        "colab_type": "code",
        "colab": {
          "base_uri": "https://localhost:8080/",
          "height": 35
        },
        "outputId": "d06e2532-aba1-4708-bd74-8adbe84b64c8"
      },
      "source": [
        "import keras    #  This is the way of using tensorflow in background"
      ],
      "execution_count": 18,
      "outputs": [
        {
          "output_type": "stream",
          "text": [
            "Using TensorFlow backend.\n"
          ],
          "name": "stderr"
        }
      ]
    },
    {
      "cell_type": "code",
      "metadata": {
        "id": "HPbFhgHPC3Q5",
        "colab_type": "code",
        "colab": {}
      },
      "source": [
        "# Keras ANN model library import\n",
        "from keras.models import Sequential\n",
        "\n",
        "# This will offer external model of ANN"
      ],
      "execution_count": 0,
      "outputs": []
    },
    {
      "cell_type": "code",
      "metadata": {
        "id": "6PZVsFszDbpM",
        "colab_type": "code",
        "colab": {}
      },
      "source": [
        "# Filling data in each layer\n",
        "from keras.layers import Dense\n",
        "\n",
        "# This will give the method to decide activation function and number of nodes in each layer.\n",
        "# including input, hidden and output layer"
      ],
      "execution_count": 0,
      "outputs": []
    },
    {
      "cell_type": "code",
      "metadata": {
        "id": "tSTIbsaVDziZ",
        "colab_type": "code",
        "colab": {}
      },
      "source": [
        "# Now we can design MODEL\n",
        "model = Sequential()"
      ],
      "execution_count": 0,
      "outputs": []
    },
    {
      "cell_type": "code",
      "metadata": {
        "id": "qq-zE_qwEO2D",
        "colab_type": "code",
        "colab": {}
      },
      "source": [
        "# Now we can add INPUT LAYER of NEURAL NETWORK  ( Or First HIDDEN LAYER)\n",
        "model.add(Dense(6,input_shape=(11,) , activation=\"relu\" ))    # Here we are using \"rectifier\"  (relu) activation function\n",
        "\n",
        "#  (units, input layer neurons, activation function)\n",
        "\n",
        "# 6 - number of units is hidden layer ( 1/2 of neurons/inputs)\n",
        "# 11 - number of neurons / attributes in input layer.."
      ],
      "execution_count": 0,
      "outputs": []
    },
    {
      "cell_type": "code",
      "metadata": {
        "id": "jqv6EvJTF0pg",
        "colab_type": "code",
        "colab": {}
      },
      "source": [
        "# Adding one more hidden layer ( We can add any number of hidden layers.)\n",
        "model.add(Dense(6,activation=\"relu\"))   # Now we don't have to assign number of inputs after first/input layer"
      ],
      "execution_count": 0,
      "outputs": []
    },
    {
      "cell_type": "code",
      "metadata": {
        "id": "9JDUjNR4HmE7",
        "colab_type": "code",
        "colab": {}
      },
      "source": [
        "# Adding the FINAL LAYER.\n",
        "model.add(Dense(1, activation='sigmoid'))  # final/output layer would have only 1 neuron"
      ],
      "execution_count": 0,
      "outputs": []
    },
    {
      "cell_type": "code",
      "metadata": {
        "id": "y6paL3O7IP8g",
        "colab_type": "code",
        "colab": {}
      },
      "source": [
        "# Compile\n",
        "model.compile(optimizer='adam', loss='binary_crossentropy' , metrics=['accuracy'])   # using stochastic gradient descent,  loss function , metrics - will print accuracy after each epoch\n",
        "\n",
        "# optimizer -- weight adjusting method (gradient_descent - stochastic(adam)) "
      ],
      "execution_count": 0,
      "outputs": []
    },
    {
      "cell_type": "code",
      "metadata": {
        "id": "aP9tGPIWJjP9",
        "colab_type": "code",
        "colab": {
          "base_uri": "https://localhost:8080/",
          "height": 1000
        },
        "outputId": "9b040864-3f71-47f6-a5e5-64148c3fe393"
      },
      "source": [
        "# Fitting training data\n",
        "model.fit(train_data,train_label, batch_size=2000, epochs=100)\n",
        "\n",
        "# we have 8000 value of data... so we define 4 batch of 2000 "
      ],
      "execution_count": 26,
      "outputs": [
        {
          "output_type": "stream",
          "text": [
            "W0709 17:55:53.342767 139636100081536 deprecation_wrapper.py:119] From /usr/local/lib/python3.6/dist-packages/keras/backend/tensorflow_backend.py:986: The name tf.assign_add is deprecated. Please use tf.compat.v1.assign_add instead.\n",
            "\n"
          ],
          "name": "stderr"
        },
        {
          "output_type": "stream",
          "text": [
            "Epoch 1/100\n",
            "8000/8000 [==============================] - 1s 94us/step - loss: 0.8298 - acc: 0.2746\n",
            "Epoch 2/100\n",
            "8000/8000 [==============================] - 0s 2us/step - loss: 0.8165 - acc: 0.2849\n",
            "Epoch 3/100\n",
            "8000/8000 [==============================] - 0s 2us/step - loss: 0.8033 - acc: 0.3001\n",
            "Epoch 4/100\n",
            "8000/8000 [==============================] - 0s 2us/step - loss: 0.7904 - acc: 0.3131\n",
            "Epoch 5/100\n",
            "8000/8000 [==============================] - 0s 2us/step - loss: 0.7781 - acc: 0.3314\n",
            "Epoch 6/100\n",
            "8000/8000 [==============================] - 0s 2us/step - loss: 0.7663 - acc: 0.3531\n",
            "Epoch 7/100\n",
            "8000/8000 [==============================] - 0s 2us/step - loss: 0.7553 - acc: 0.3791\n",
            "Epoch 8/100\n",
            "8000/8000 [==============================] - 0s 2us/step - loss: 0.7449 - acc: 0.4014\n",
            "Epoch 9/100\n",
            "8000/8000 [==============================] - 0s 2us/step - loss: 0.7350 - acc: 0.4322\n",
            "Epoch 10/100\n",
            "8000/8000 [==============================] - 0s 2us/step - loss: 0.7256 - acc: 0.4598\n",
            "Epoch 11/100\n",
            "8000/8000 [==============================] - 0s 2us/step - loss: 0.7168 - acc: 0.4879\n",
            "Epoch 12/100\n",
            "8000/8000 [==============================] - 0s 2us/step - loss: 0.7085 - acc: 0.5148\n",
            "Epoch 13/100\n",
            "8000/8000 [==============================] - 0s 2us/step - loss: 0.7005 - acc: 0.5400\n",
            "Epoch 14/100\n",
            "8000/8000 [==============================] - 0s 2us/step - loss: 0.6930 - acc: 0.5634\n",
            "Epoch 15/100\n",
            "8000/8000 [==============================] - 0s 2us/step - loss: 0.6859 - acc: 0.5872\n",
            "Epoch 16/100\n",
            "8000/8000 [==============================] - 0s 2us/step - loss: 0.6791 - acc: 0.6094\n",
            "Epoch 17/100\n",
            "8000/8000 [==============================] - 0s 2us/step - loss: 0.6725 - acc: 0.6262\n",
            "Epoch 18/100\n",
            "8000/8000 [==============================] - 0s 2us/step - loss: 0.6661 - acc: 0.6460\n",
            "Epoch 19/100\n",
            "8000/8000 [==============================] - 0s 2us/step - loss: 0.6600 - acc: 0.6631\n",
            "Epoch 20/100\n",
            "8000/8000 [==============================] - 0s 2us/step - loss: 0.6542 - acc: 0.6791\n",
            "Epoch 21/100\n",
            "8000/8000 [==============================] - 0s 2us/step - loss: 0.6485 - acc: 0.6921\n",
            "Epoch 22/100\n",
            "8000/8000 [==============================] - 0s 2us/step - loss: 0.6429 - acc: 0.7089\n",
            "Epoch 23/100\n",
            "8000/8000 [==============================] - 0s 2us/step - loss: 0.6376 - acc: 0.7218\n",
            "Epoch 24/100\n",
            "8000/8000 [==============================] - 0s 2us/step - loss: 0.6324 - acc: 0.7341\n",
            "Epoch 25/100\n",
            "8000/8000 [==============================] - 0s 2us/step - loss: 0.6274 - acc: 0.7435\n",
            "Epoch 26/100\n",
            "8000/8000 [==============================] - 0s 2us/step - loss: 0.6224 - acc: 0.7516\n",
            "Epoch 27/100\n",
            "8000/8000 [==============================] - 0s 2us/step - loss: 0.6176 - acc: 0.7583\n",
            "Epoch 28/100\n",
            "8000/8000 [==============================] - 0s 2us/step - loss: 0.6129 - acc: 0.7686\n",
            "Epoch 29/100\n",
            "8000/8000 [==============================] - 0s 2us/step - loss: 0.6084 - acc: 0.7740\n",
            "Epoch 30/100\n",
            "8000/8000 [==============================] - 0s 3us/step - loss: 0.6040 - acc: 0.7796\n",
            "Epoch 31/100\n",
            "8000/8000 [==============================] - 0s 3us/step - loss: 0.5995 - acc: 0.7862\n",
            "Epoch 32/100\n",
            "8000/8000 [==============================] - 0s 2us/step - loss: 0.5953 - acc: 0.7896\n",
            "Epoch 33/100\n",
            "8000/8000 [==============================] - 0s 3us/step - loss: 0.5910 - acc: 0.7924\n",
            "Epoch 34/100\n",
            "8000/8000 [==============================] - 0s 2us/step - loss: 0.5870 - acc: 0.7943\n",
            "Epoch 35/100\n",
            "8000/8000 [==============================] - 0s 2us/step - loss: 0.5830 - acc: 0.7950\n",
            "Epoch 36/100\n",
            "8000/8000 [==============================] - 0s 2us/step - loss: 0.5791 - acc: 0.7963\n",
            "Epoch 37/100\n",
            "8000/8000 [==============================] - 0s 2us/step - loss: 0.5752 - acc: 0.7969\n",
            "Epoch 38/100\n",
            "8000/8000 [==============================] - 0s 2us/step - loss: 0.5714 - acc: 0.7977\n",
            "Epoch 39/100\n",
            "8000/8000 [==============================] - 0s 2us/step - loss: 0.5678 - acc: 0.7984\n",
            "Epoch 40/100\n",
            "8000/8000 [==============================] - 0s 3us/step - loss: 0.5642 - acc: 0.7990\n",
            "Epoch 41/100\n",
            "8000/8000 [==============================] - 0s 2us/step - loss: 0.5607 - acc: 0.7991\n",
            "Epoch 42/100\n",
            "8000/8000 [==============================] - 0s 2us/step - loss: 0.5573 - acc: 0.7992\n",
            "Epoch 43/100\n",
            "8000/8000 [==============================] - 0s 2us/step - loss: 0.5539 - acc: 0.7990\n",
            "Epoch 44/100\n",
            "8000/8000 [==============================] - 0s 2us/step - loss: 0.5507 - acc: 0.7991\n",
            "Epoch 45/100\n",
            "8000/8000 [==============================] - 0s 2us/step - loss: 0.5474 - acc: 0.7991\n",
            "Epoch 46/100\n",
            "8000/8000 [==============================] - 0s 2us/step - loss: 0.5443 - acc: 0.7990\n",
            "Epoch 47/100\n",
            "8000/8000 [==============================] - 0s 2us/step - loss: 0.5412 - acc: 0.7989\n",
            "Epoch 48/100\n",
            "8000/8000 [==============================] - 0s 2us/step - loss: 0.5381 - acc: 0.7989\n",
            "Epoch 49/100\n",
            "8000/8000 [==============================] - 0s 2us/step - loss: 0.5352 - acc: 0.7989\n",
            "Epoch 50/100\n",
            "8000/8000 [==============================] - 0s 2us/step - loss: 0.5323 - acc: 0.7989\n",
            "Epoch 51/100\n",
            "8000/8000 [==============================] - 0s 2us/step - loss: 0.5295 - acc: 0.7988\n",
            "Epoch 52/100\n",
            "8000/8000 [==============================] - 0s 3us/step - loss: 0.5268 - acc: 0.7988\n",
            "Epoch 53/100\n",
            "8000/8000 [==============================] - 0s 2us/step - loss: 0.5240 - acc: 0.7986\n",
            "Epoch 54/100\n",
            "8000/8000 [==============================] - 0s 2us/step - loss: 0.5213 - acc: 0.7986\n",
            "Epoch 55/100\n",
            "8000/8000 [==============================] - 0s 2us/step - loss: 0.5188 - acc: 0.7986\n",
            "Epoch 56/100\n",
            "8000/8000 [==============================] - 0s 2us/step - loss: 0.5163 - acc: 0.7986\n",
            "Epoch 57/100\n",
            "8000/8000 [==============================] - 0s 2us/step - loss: 0.5139 - acc: 0.7986\n",
            "Epoch 58/100\n",
            "8000/8000 [==============================] - 0s 2us/step - loss: 0.5115 - acc: 0.7986\n",
            "Epoch 59/100\n",
            "8000/8000 [==============================] - 0s 2us/step - loss: 0.5093 - acc: 0.7986\n",
            "Epoch 60/100\n",
            "8000/8000 [==============================] - 0s 3us/step - loss: 0.5071 - acc: 0.7986\n",
            "Epoch 61/100\n",
            "8000/8000 [==============================] - 0s 2us/step - loss: 0.5050 - acc: 0.7986\n",
            "Epoch 62/100\n",
            "8000/8000 [==============================] - 0s 2us/step - loss: 0.5029 - acc: 0.7986\n",
            "Epoch 63/100\n",
            "8000/8000 [==============================] - 0s 2us/step - loss: 0.5009 - acc: 0.7986\n",
            "Epoch 64/100\n",
            "8000/8000 [==============================] - 0s 2us/step - loss: 0.4990 - acc: 0.7986\n",
            "Epoch 65/100\n",
            "8000/8000 [==============================] - 0s 2us/step - loss: 0.4972 - acc: 0.7986\n",
            "Epoch 66/100\n",
            "8000/8000 [==============================] - 0s 2us/step - loss: 0.4954 - acc: 0.7986\n",
            "Epoch 67/100\n",
            "8000/8000 [==============================] - 0s 2us/step - loss: 0.4937 - acc: 0.7986\n",
            "Epoch 68/100\n",
            "8000/8000 [==============================] - 0s 2us/step - loss: 0.4921 - acc: 0.7986\n",
            "Epoch 69/100\n",
            "8000/8000 [==============================] - 0s 2us/step - loss: 0.4905 - acc: 0.7986\n",
            "Epoch 70/100\n",
            "8000/8000 [==============================] - 0s 2us/step - loss: 0.4890 - acc: 0.7986\n",
            "Epoch 71/100\n",
            "8000/8000 [==============================] - 0s 2us/step - loss: 0.4875 - acc: 0.7986\n",
            "Epoch 72/100\n",
            "8000/8000 [==============================] - 0s 2us/step - loss: 0.4861 - acc: 0.7986\n",
            "Epoch 73/100\n",
            "8000/8000 [==============================] - 0s 2us/step - loss: 0.4848 - acc: 0.7986\n",
            "Epoch 74/100\n",
            "8000/8000 [==============================] - 0s 2us/step - loss: 0.4835 - acc: 0.7986\n",
            "Epoch 75/100\n",
            "8000/8000 [==============================] - 0s 2us/step - loss: 0.4822 - acc: 0.7986\n",
            "Epoch 76/100\n",
            "8000/8000 [==============================] - 0s 2us/step - loss: 0.4810 - acc: 0.7986\n",
            "Epoch 77/100\n",
            "8000/8000 [==============================] - 0s 2us/step - loss: 0.4798 - acc: 0.7986\n",
            "Epoch 78/100\n",
            "8000/8000 [==============================] - 0s 2us/step - loss: 0.4787 - acc: 0.7986\n",
            "Epoch 79/100\n",
            "8000/8000 [==============================] - 0s 2us/step - loss: 0.4775 - acc: 0.7986\n",
            "Epoch 80/100\n",
            "8000/8000 [==============================] - 0s 2us/step - loss: 0.4765 - acc: 0.7986\n",
            "Epoch 81/100\n",
            "8000/8000 [==============================] - 0s 5us/step - loss: 0.4754 - acc: 0.7986\n",
            "Epoch 82/100\n",
            "8000/8000 [==============================] - 0s 3us/step - loss: 0.4744 - acc: 0.7986\n",
            "Epoch 83/100\n",
            "8000/8000 [==============================] - 0s 2us/step - loss: 0.4735 - acc: 0.7986\n",
            "Epoch 84/100\n",
            "8000/8000 [==============================] - 0s 2us/step - loss: 0.4725 - acc: 0.7986\n",
            "Epoch 85/100\n",
            "8000/8000 [==============================] - 0s 3us/step - loss: 0.4715 - acc: 0.7986\n",
            "Epoch 86/100\n",
            "8000/8000 [==============================] - 0s 2us/step - loss: 0.4706 - acc: 0.7986\n",
            "Epoch 87/100\n",
            "8000/8000 [==============================] - 0s 2us/step - loss: 0.4697 - acc: 0.7986\n",
            "Epoch 88/100\n",
            "8000/8000 [==============================] - 0s 2us/step - loss: 0.4688 - acc: 0.7986\n",
            "Epoch 89/100\n",
            "8000/8000 [==============================] - 0s 2us/step - loss: 0.4679 - acc: 0.7986\n",
            "Epoch 90/100\n",
            "8000/8000 [==============================] - 0s 2us/step - loss: 0.4670 - acc: 0.7986\n",
            "Epoch 91/100\n",
            "8000/8000 [==============================] - 0s 2us/step - loss: 0.4662 - acc: 0.7986\n",
            "Epoch 92/100\n",
            "8000/8000 [==============================] - 0s 3us/step - loss: 0.4653 - acc: 0.7986\n",
            "Epoch 93/100\n",
            "8000/8000 [==============================] - 0s 2us/step - loss: 0.4645 - acc: 0.7986\n",
            "Epoch 94/100\n",
            "8000/8000 [==============================] - 0s 2us/step - loss: 0.4636 - acc: 0.7986\n",
            "Epoch 95/100\n",
            "8000/8000 [==============================] - 0s 2us/step - loss: 0.4628 - acc: 0.7986\n",
            "Epoch 96/100\n",
            "8000/8000 [==============================] - 0s 2us/step - loss: 0.4620 - acc: 0.7986\n",
            "Epoch 97/100\n",
            "8000/8000 [==============================] - 0s 3us/step - loss: 0.4612 - acc: 0.7986\n",
            "Epoch 98/100\n",
            "8000/8000 [==============================] - 0s 2us/step - loss: 0.4604 - acc: 0.7986\n",
            "Epoch 99/100\n",
            "8000/8000 [==============================] - 0s 2us/step - loss: 0.4596 - acc: 0.7986\n",
            "Epoch 100/100\n",
            "8000/8000 [==============================] - 0s 2us/step - loss: 0.4588 - acc: 0.7986\n"
          ],
          "name": "stdout"
        },
        {
          "output_type": "execute_result",
          "data": {
            "text/plain": [
              "<keras.callbacks.History at 0x7eff4b58bf28>"
            ]
          },
          "metadata": {
            "tags": []
          },
          "execution_count": 26
        }
      ]
    },
    {
      "cell_type": "code",
      "metadata": {
        "id": "Hecb3elqKr6Q",
        "colab_type": "code",
        "colab": {
          "base_uri": "https://localhost:8080/",
          "height": 141
        },
        "outputId": "8a71a1fd-dbd3-4ed9-b866-79bf080a3719"
      },
      "source": [
        "# Now predicting test data\n",
        "model.predict(test_data)  "
      ],
      "execution_count": 27,
      "outputs": [
        {
          "output_type": "execute_result",
          "data": {
            "text/plain": [
              "array([[0.32660004],\n",
              "       [0.08849195],\n",
              "       [0.2599032 ],\n",
              "       ...,\n",
              "       [0.30883205],\n",
              "       [0.3317858 ],\n",
              "       [0.10658514]], dtype=float32)"
            ]
          },
          "metadata": {
            "tags": []
          },
          "execution_count": 27
        }
      ]
    },
    {
      "cell_type": "code",
      "metadata": {
        "id": "sBS6KEkoLK2Z",
        "colab_type": "code",
        "colab": {
          "base_uri": "https://localhost:8080/",
          "height": 1000
        },
        "outputId": "3295ba34-487b-47c5-bdd9-646349a912b2"
      },
      "source": [
        "# Fitting training data\n",
        "model.fit(train_data,train_label, batch_size=25, epochs=100)   # reducing batch size will increase accuracy ..  Batch size is the number of times after the weight is adjusted\n"
      ],
      "execution_count": 28,
      "outputs": [
        {
          "output_type": "stream",
          "text": [
            "Epoch 1/100\n",
            "8000/8000 [==============================] - 0s 52us/step - loss: 0.4423 - acc: 0.8025\n",
            "Epoch 2/100\n",
            "8000/8000 [==============================] - 0s 50us/step - loss: 0.4174 - acc: 0.8115\n",
            "Epoch 3/100\n",
            "8000/8000 [==============================] - 0s 52us/step - loss: 0.3975 - acc: 0.8186\n",
            "Epoch 4/100\n",
            "8000/8000 [==============================] - 0s 50us/step - loss: 0.3807 - acc: 0.8320\n",
            "Epoch 5/100\n",
            "8000/8000 [==============================] - 0s 52us/step - loss: 0.3684 - acc: 0.8405\n",
            "Epoch 6/100\n",
            "8000/8000 [==============================] - 0s 50us/step - loss: 0.3619 - acc: 0.8444\n",
            "Epoch 7/100\n",
            "8000/8000 [==============================] - 0s 51us/step - loss: 0.3576 - acc: 0.8461\n",
            "Epoch 8/100\n",
            "8000/8000 [==============================] - 0s 49us/step - loss: 0.3539 - acc: 0.8504\n",
            "Epoch 9/100\n",
            "8000/8000 [==============================] - 0s 51us/step - loss: 0.3520 - acc: 0.8516\n",
            "Epoch 10/100\n",
            "8000/8000 [==============================] - 0s 50us/step - loss: 0.3498 - acc: 0.8531\n",
            "Epoch 11/100\n",
            "8000/8000 [==============================] - 0s 50us/step - loss: 0.3482 - acc: 0.8559\n",
            "Epoch 12/100\n",
            "8000/8000 [==============================] - 0s 51us/step - loss: 0.3471 - acc: 0.8549\n",
            "Epoch 13/100\n",
            "8000/8000 [==============================] - 0s 50us/step - loss: 0.3458 - acc: 0.8570\n",
            "Epoch 14/100\n",
            "8000/8000 [==============================] - 0s 52us/step - loss: 0.3453 - acc: 0.8552\n",
            "Epoch 15/100\n",
            "8000/8000 [==============================] - 0s 54us/step - loss: 0.3444 - acc: 0.8562\n",
            "Epoch 16/100\n",
            "8000/8000 [==============================] - 0s 49us/step - loss: 0.3435 - acc: 0.8576\n",
            "Epoch 17/100\n",
            "8000/8000 [==============================] - 0s 50us/step - loss: 0.3432 - acc: 0.8552\n",
            "Epoch 18/100\n",
            "8000/8000 [==============================] - 0s 49us/step - loss: 0.3425 - acc: 0.8575\n",
            "Epoch 19/100\n",
            "8000/8000 [==============================] - 0s 49us/step - loss: 0.3418 - acc: 0.8569\n",
            "Epoch 20/100\n",
            "8000/8000 [==============================] - 0s 50us/step - loss: 0.3416 - acc: 0.8589\n",
            "Epoch 21/100\n",
            "8000/8000 [==============================] - 0s 49us/step - loss: 0.3406 - acc: 0.8591\n",
            "Epoch 22/100\n",
            "8000/8000 [==============================] - 0s 49us/step - loss: 0.3412 - acc: 0.8599\n",
            "Epoch 23/100\n",
            "8000/8000 [==============================] - 0s 50us/step - loss: 0.3404 - acc: 0.8616\n",
            "Epoch 24/100\n",
            "8000/8000 [==============================] - 0s 50us/step - loss: 0.3398 - acc: 0.8610\n",
            "Epoch 25/100\n",
            "8000/8000 [==============================] - 0s 50us/step - loss: 0.3397 - acc: 0.8604\n",
            "Epoch 26/100\n",
            "8000/8000 [==============================] - 0s 51us/step - loss: 0.3392 - acc: 0.8612\n",
            "Epoch 27/100\n",
            "8000/8000 [==============================] - 0s 50us/step - loss: 0.3390 - acc: 0.8607\n",
            "Epoch 28/100\n",
            "8000/8000 [==============================] - 0s 49us/step - loss: 0.3389 - acc: 0.8619\n",
            "Epoch 29/100\n",
            "8000/8000 [==============================] - 0s 51us/step - loss: 0.3381 - acc: 0.8614\n",
            "Epoch 30/100\n",
            "8000/8000 [==============================] - 0s 50us/step - loss: 0.3383 - acc: 0.8621\n",
            "Epoch 31/100\n",
            "8000/8000 [==============================] - 0s 50us/step - loss: 0.3373 - acc: 0.8620\n",
            "Epoch 32/100\n",
            "8000/8000 [==============================] - 0s 49us/step - loss: 0.3371 - acc: 0.8607\n",
            "Epoch 33/100\n",
            "8000/8000 [==============================] - 0s 49us/step - loss: 0.3369 - acc: 0.8631\n",
            "Epoch 34/100\n",
            "8000/8000 [==============================] - 0s 49us/step - loss: 0.3370 - acc: 0.8616\n",
            "Epoch 35/100\n",
            "8000/8000 [==============================] - 0s 49us/step - loss: 0.3365 - acc: 0.8620\n",
            "Epoch 36/100\n",
            "8000/8000 [==============================] - 0s 49us/step - loss: 0.3365 - acc: 0.8614\n",
            "Epoch 37/100\n",
            "8000/8000 [==============================] - 0s 49us/step - loss: 0.3364 - acc: 0.8620\n",
            "Epoch 38/100\n",
            "8000/8000 [==============================] - 0s 50us/step - loss: 0.3360 - acc: 0.8642\n",
            "Epoch 39/100\n",
            "8000/8000 [==============================] - 0s 49us/step - loss: 0.3360 - acc: 0.8614\n",
            "Epoch 40/100\n",
            "8000/8000 [==============================] - 0s 50us/step - loss: 0.3359 - acc: 0.8632\n",
            "Epoch 41/100\n",
            "8000/8000 [==============================] - 0s 54us/step - loss: 0.3355 - acc: 0.8630\n",
            "Epoch 42/100\n",
            "8000/8000 [==============================] - 0s 50us/step - loss: 0.3355 - acc: 0.8626\n",
            "Epoch 43/100\n",
            "8000/8000 [==============================] - 0s 49us/step - loss: 0.3353 - acc: 0.8626\n",
            "Epoch 44/100\n",
            "8000/8000 [==============================] - 0s 50us/step - loss: 0.3355 - acc: 0.8632\n",
            "Epoch 45/100\n",
            "8000/8000 [==============================] - 0s 51us/step - loss: 0.3356 - acc: 0.8639\n",
            "Epoch 46/100\n",
            "8000/8000 [==============================] - 0s 50us/step - loss: 0.3355 - acc: 0.8630\n",
            "Epoch 47/100\n",
            "8000/8000 [==============================] - 0s 51us/step - loss: 0.3353 - acc: 0.8636\n",
            "Epoch 48/100\n",
            "8000/8000 [==============================] - 0s 50us/step - loss: 0.3352 - acc: 0.8629\n",
            "Epoch 49/100\n",
            "8000/8000 [==============================] - 0s 50us/step - loss: 0.3351 - acc: 0.8636\n",
            "Epoch 50/100\n",
            "8000/8000 [==============================] - 0s 50us/step - loss: 0.3351 - acc: 0.8624\n",
            "Epoch 51/100\n",
            "8000/8000 [==============================] - 0s 49us/step - loss: 0.3351 - acc: 0.8631\n",
            "Epoch 52/100\n",
            "8000/8000 [==============================] - 0s 50us/step - loss: 0.3347 - acc: 0.8631\n",
            "Epoch 53/100\n",
            "8000/8000 [==============================] - 0s 53us/step - loss: 0.3348 - acc: 0.8637\n",
            "Epoch 54/100\n",
            "8000/8000 [==============================] - 0s 49us/step - loss: 0.3343 - acc: 0.8640\n",
            "Epoch 55/100\n",
            "8000/8000 [==============================] - 0s 50us/step - loss: 0.3345 - acc: 0.8639\n",
            "Epoch 56/100\n",
            "8000/8000 [==============================] - 0s 51us/step - loss: 0.3342 - acc: 0.8646\n",
            "Epoch 57/100\n",
            "8000/8000 [==============================] - 0s 50us/step - loss: 0.3342 - acc: 0.8635\n",
            "Epoch 58/100\n",
            "8000/8000 [==============================] - 0s 51us/step - loss: 0.3340 - acc: 0.8630\n",
            "Epoch 59/100\n",
            "8000/8000 [==============================] - 0s 50us/step - loss: 0.3341 - acc: 0.8646\n",
            "Epoch 60/100\n",
            "8000/8000 [==============================] - 0s 50us/step - loss: 0.3342 - acc: 0.8649\n",
            "Epoch 61/100\n",
            "8000/8000 [==============================] - 0s 52us/step - loss: 0.3339 - acc: 0.8645\n",
            "Epoch 62/100\n",
            "8000/8000 [==============================] - 0s 49us/step - loss: 0.3340 - acc: 0.8642\n",
            "Epoch 63/100\n",
            "8000/8000 [==============================] - 0s 51us/step - loss: 0.3338 - acc: 0.8640\n",
            "Epoch 64/100\n",
            "8000/8000 [==============================] - 0s 50us/step - loss: 0.3339 - acc: 0.8651\n",
            "Epoch 65/100\n",
            "8000/8000 [==============================] - 0s 51us/step - loss: 0.3337 - acc: 0.8636\n",
            "Epoch 66/100\n",
            "8000/8000 [==============================] - 0s 50us/step - loss: 0.3337 - acc: 0.8626\n",
            "Epoch 67/100\n",
            "8000/8000 [==============================] - 0s 51us/step - loss: 0.3337 - acc: 0.8646\n",
            "Epoch 68/100\n",
            "8000/8000 [==============================] - 0s 50us/step - loss: 0.3334 - acc: 0.8635\n",
            "Epoch 69/100\n",
            "8000/8000 [==============================] - 0s 54us/step - loss: 0.3336 - acc: 0.8642\n",
            "Epoch 70/100\n",
            "8000/8000 [==============================] - 0s 51us/step - loss: 0.3331 - acc: 0.8657\n",
            "Epoch 71/100\n",
            "8000/8000 [==============================] - 0s 52us/step - loss: 0.3336 - acc: 0.8650\n",
            "Epoch 72/100\n",
            "8000/8000 [==============================] - 0s 50us/step - loss: 0.3331 - acc: 0.8655\n",
            "Epoch 73/100\n",
            "8000/8000 [==============================] - 0s 52us/step - loss: 0.3334 - acc: 0.8646\n",
            "Epoch 74/100\n",
            "8000/8000 [==============================] - 0s 50us/step - loss: 0.3331 - acc: 0.8640\n",
            "Epoch 75/100\n",
            "8000/8000 [==============================] - 0s 53us/step - loss: 0.3328 - acc: 0.8636\n",
            "Epoch 76/100\n",
            "8000/8000 [==============================] - 0s 53us/step - loss: 0.3331 - acc: 0.8641\n",
            "Epoch 77/100\n",
            "8000/8000 [==============================] - 0s 51us/step - loss: 0.3328 - acc: 0.8636\n",
            "Epoch 78/100\n",
            "8000/8000 [==============================] - 0s 50us/step - loss: 0.3328 - acc: 0.8649\n",
            "Epoch 79/100\n",
            "8000/8000 [==============================] - 0s 52us/step - loss: 0.3329 - acc: 0.8636\n",
            "Epoch 80/100\n",
            "8000/8000 [==============================] - 0s 52us/step - loss: 0.3329 - acc: 0.8646\n",
            "Epoch 81/100\n",
            "8000/8000 [==============================] - 0s 51us/step - loss: 0.3323 - acc: 0.8652\n",
            "Epoch 82/100\n",
            "8000/8000 [==============================] - 0s 52us/step - loss: 0.3323 - acc: 0.8652\n",
            "Epoch 83/100\n",
            "8000/8000 [==============================] - 0s 50us/step - loss: 0.3325 - acc: 0.8640\n",
            "Epoch 84/100\n",
            "8000/8000 [==============================] - 0s 53us/step - loss: 0.3324 - acc: 0.8646\n",
            "Epoch 85/100\n",
            "8000/8000 [==============================] - 0s 51us/step - loss: 0.3326 - acc: 0.8637\n",
            "Epoch 86/100\n",
            "8000/8000 [==============================] - 0s 50us/step - loss: 0.3326 - acc: 0.8631\n",
            "Epoch 87/100\n",
            "8000/8000 [==============================] - 0s 52us/step - loss: 0.3326 - acc: 0.8642\n",
            "Epoch 88/100\n",
            "8000/8000 [==============================] - 0s 51us/step - loss: 0.3324 - acc: 0.8654\n",
            "Epoch 89/100\n",
            "8000/8000 [==============================] - 0s 51us/step - loss: 0.3323 - acc: 0.8649\n",
            "Epoch 90/100\n",
            "8000/8000 [==============================] - 0s 52us/step - loss: 0.3323 - acc: 0.8646\n",
            "Epoch 91/100\n",
            "8000/8000 [==============================] - 0s 50us/step - loss: 0.3323 - acc: 0.8657\n",
            "Epoch 92/100\n",
            "8000/8000 [==============================] - 0s 53us/step - loss: 0.3320 - acc: 0.8639\n",
            "Epoch 93/100\n",
            "8000/8000 [==============================] - 0s 50us/step - loss: 0.3320 - acc: 0.8656\n",
            "Epoch 94/100\n",
            "8000/8000 [==============================] - 0s 50us/step - loss: 0.3325 - acc: 0.8644\n",
            "Epoch 95/100\n",
            "8000/8000 [==============================] - 0s 55us/step - loss: 0.3320 - acc: 0.8654\n",
            "Epoch 96/100\n",
            "8000/8000 [==============================] - 0s 51us/step - loss: 0.3324 - acc: 0.8640\n",
            "Epoch 97/100\n",
            "8000/8000 [==============================] - 0s 50us/step - loss: 0.3321 - acc: 0.8647\n",
            "Epoch 98/100\n",
            "8000/8000 [==============================] - 0s 50us/step - loss: 0.3320 - acc: 0.8654\n",
            "Epoch 99/100\n",
            "8000/8000 [==============================] - 0s 52us/step - loss: 0.3318 - acc: 0.8635\n",
            "Epoch 100/100\n",
            "8000/8000 [==============================] - 0s 51us/step - loss: 0.3323 - acc: 0.8640\n"
          ],
          "name": "stdout"
        },
        {
          "output_type": "execute_result",
          "data": {
            "text/plain": [
              "<keras.callbacks.History at 0x7eff46982438>"
            ]
          },
          "metadata": {
            "tags": []
          },
          "execution_count": 28
        }
      ]
    },
    {
      "cell_type": "code",
      "metadata": {
        "id": "gN97hRvHMQWx",
        "colab_type": "code",
        "colab": {
          "base_uri": "https://localhost:8080/",
          "height": 141
        },
        "outputId": "f207aa64-aa78-4546-f196-40940943d32a"
      },
      "source": [
        "# Now predicting test data\n",
        "model.predict(test_data)  "
      ],
      "execution_count": 29,
      "outputs": [
        {
          "output_type": "execute_result",
          "data": {
            "text/plain": [
              "array([[0.16580135],\n",
              "       [0.09934437],\n",
              "       [0.33626676],\n",
              "       ...,\n",
              "       [0.04160187],\n",
              "       [0.94560987],\n",
              "       [0.09926656]], dtype=float32)"
            ]
          },
          "metadata": {
            "tags": []
          },
          "execution_count": 29
        }
      ]
    },
    {
      "cell_type": "code",
      "metadata": {
        "id": "O8e3FzJtNEeP",
        "colab_type": "code",
        "colab": {}
      },
      "source": [
        ""
      ],
      "execution_count": 0,
      "outputs": []
    }
  ]
}